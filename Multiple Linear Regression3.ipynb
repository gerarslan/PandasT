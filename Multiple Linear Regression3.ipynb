{
 "cells": [
  {
   "cell_type": "code",
   "execution_count": 1,
   "metadata": {},
   "outputs": [],
   "source": [
    "import pandas as pd\n",
    "import numpy as np\n",
    "import matplotlib.pylab as plt\n",
    "import bokeh \n",
    "from sklearn.model_selection import train_test_split\n",
    "from sklearn.linear_model import LinearRegression"
   ]
  },
  {
   "cell_type": "code",
   "execution_count": 7,
   "metadata": {},
   "outputs": [],
   "source": [
    "a = \"Wine_data.xlsx\"\n",
    "df = pd.read_excel(a)\n",
    "x = df.iloc[:,0:11]\n",
    "y = df.iloc[:,-1]\n",
    "x_train, x_test, y_train, y_test = train_test_split(x,y,test_size=0.2,random_state=0)"
   ]
  },
  {
   "cell_type": "code",
   "execution_count": 8,
   "metadata": {},
   "outputs": [
    {
     "name": "stdout",
     "output_type": "stream",
     "text": [
      "188.4592953047462\n",
      "[ 1.06981517e-01 -1.81032516e+00 -1.51630286e-02  9.29140769e-02\n",
      " -5.56723628e-01  4.43552129e-03 -2.86630409e-04 -1.88992556e+02\n",
      "  8.22368627e-01  6.38975597e-01  1.37843182e-01]\n"
     ]
    }
   ],
   "source": [
    "df = LinearRegression()\n",
    "df.fit(x_train,y_train)\n",
    "print(df.intercept_)\n",
    "print(df.coef_)\n",
    "y_pred = df.predict(x_test)\n",
    "df1 = pd.DataFrame({\"Actual\": y_test, \"Predicted\":y_pred})"
   ]
  },
  {
   "cell_type": "code",
   "execution_count": 9,
   "metadata": {},
   "outputs": [
    {
     "name": "stdout",
     "output_type": "stream",
     "text": [
      "Mean Absolute Error: 0.6297007608024665\n",
      "Mean Squared Error: 0.6598453517935916\n",
      "Root Mean Squared Error: 0.8123086554959215\n"
     ]
    }
   ],
   "source": [
    "from sklearn import metrics\n",
    "print(\"Mean Absolute Error:\",metrics.mean_absolute_error(y_test,y_pred))\n",
    "print(\"Mean Squared Error:\",metrics.mean_squared_error(y_test,y_pred))\n",
    "print(\"Root Mean Squared Error:\",np.sqrt(metrics.mean_squared_error(y_test,y_pred)))"
   ]
  },
  {
   "cell_type": "code",
   "execution_count": null,
   "metadata": {},
   "outputs": [],
   "source": []
  }
 ],
 "metadata": {
  "kernelspec": {
   "display_name": "Python 3",
   "language": "python",
   "name": "python3"
  },
  "language_info": {
   "codemirror_mode": {
    "name": "ipython",
    "version": 3
   },
   "file_extension": ".py",
   "mimetype": "text/x-python",
   "name": "python",
   "nbconvert_exporter": "python",
   "pygments_lexer": "ipython3",
   "version": "3.7.4"
  }
 },
 "nbformat": 4,
 "nbformat_minor": 2
}
